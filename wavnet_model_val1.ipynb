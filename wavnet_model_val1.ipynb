{
 "cells": [
  {
   "cell_type": "code",
   "execution_count": null,
   "metadata": {},
   "outputs": [],
   "source": [
    "import os\n",
    "import numpy as np\n",
    "import librosa\n",
    "import tensorflow as tf\n",
    "import pickle\n",
    "\n",
    "# Function to load audio file and convert to spectrogram\n",
    "def load_audio(file_path):\n",
    "    SR = 16000  # Sample rate\n",
    "    DURATION = 5  # Duration of audio clips in seconds\n",
    "    audio, _ = librosa.load(file_path, sr=SR, duration=DURATION, mono=True)\n",
    "    # Convert audio to spectrogram\n",
    "    spectrogram = librosa.feature.melspectrogram(y=audio, sr=SR)\n",
    "    return spectrogram\n",
    "\n",
    "# Load the trained model\n",
    "model = tf.keras.models.load_model(\"birds_classifier_model.h5\")\n",
    "\n",
    "# Load the label encoder\n",
    "with open('label_encoder.pkl', 'rb') as f:\n",
    "    label_encoder = pickle.load(f)\n",
    "\n",
    "# Function to predict label of an audio file\n",
    "def predict_audio_label(audio_file):\n",
    "    # Load and preprocess the audio file\n",
    "    spectrogram = load_audio(audio_file)\n",
    "    spectrogram = np.expand_dims(spectrogram, axis=0)  # Add batch dimension\n",
    "\n",
    "    # Predict probabilities for each class\n",
    "    predicted_probabilities = model.predict(spectrogram)\n",
    "    \n",
    "    # Get the predicted class index\n",
    "    predicted_index = np.argmax(predicted_probabilities)\n",
    "    \n",
    "    # Map the index to the corresponding class label\n",
    "    predicted_label = list(label_encoder.keys())[predicted_index]\n",
    "    \n",
    "    return predicted_label\n",
    "\n",
    "# Example usage\n",
    "audio_file_path = \"birds_audio_dataset\\BALD EAGLE\\XC703906 - Bald Eagle - Haliaeetus leucocephalus.mp3\"  # Replace with the path to your audio file\n",
    "predicted_label = predict_audio_label(audio_file_path)\n",
    "print(\"Predicted label:\", predicted_label)"
   ]
  }
 ],
 "metadata": {
  "language_info": {
   "name": "python"
  }
 },
 "nbformat": 4,
 "nbformat_minor": 2
}
