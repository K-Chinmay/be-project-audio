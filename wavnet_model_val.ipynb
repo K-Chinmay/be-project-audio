{
 "cells": [
  {
   "cell_type": "code",
   "execution_count": null,
   "metadata": {},
   "outputs": [],
   "source": [
    "import numpy as np\n",
    "import tensorflow as tf\n",
    "from tensorflow.keras.models import load_model\n",
    "from sklearn.preprocessing import LabelEncoder\n",
    "import librosa\n",
    "from skimage.color import gray2rgb\n",
    "from skimage.transform import resize\n",
    "from pydub import AudioSegment\n",
    "\n",
    "# Load the trained model\n",
    "model = load_model(\"birds_classifier_model.h5\")\n",
    "\n",
    "# Load the Label Encoder\n",
    "label_encoder = LabelEncoder()\n",
    "label_encoder.classes_ = np.load('label_encoder.npy', allow_pickle=True)\n",
    "\n",
    "with open('max_width.txt', 'r') as file:\n",
    "    max_width = int(file.read().strip())\n",
    "\n",
    "# Function to preprocess input audio\n",
    "def preprocess_audio(audio_path):\n",
    "    SR = 16000  # Sample rate\n",
    "    DURATION = 5  # Duration of audio clips in seconds\n",
    "    audio, _ = librosa.load(audio_path, sr=SR, duration=DURATION, mono=True)\n",
    "    # Convert audio to spectrogram\n",
    "    spectrogram = librosa.feature.melspectrogram(y=audio, sr=SR)\n",
    "    return np.expand_dims(spectrogram, axis=0)  # Add batch dimension\n",
    "\n",
    "# Function to convert MP3 to WAV\n",
    "def convert_mp3_to_wav(mp3_file, wav_file):\n",
    "    audio = AudioSegment.from_mp3(mp3_file)\n",
    "    audio.export(wav_file, format=\"wav\")\n",
    "\n",
    "# Function to predict bird species from audio file\n",
    "def predict_bird_species(audio_file):\n",
    "    # Convert MP3 to WAV\n",
    "    wav_file = audio_file.replace('.mp3', '.wav')\n",
    "    convert_mp3_to_wav(audio_file, wav_file)\n",
    "    # Preprocess input audio file\n",
    "    processed_input = preprocess_audio(wav_file)\n",
    "    # Make prediction\n",
    "    predictions = model.predict(processed_input)\n",
    "    # Decode predicted label\n",
    "    predicted_label = label_encoder.inverse_transform([np.argmax(predictions)])[0]\n",
    "    return predicted_label\n",
    "\n",
    "# Example usage\n",
    "audio_file_path = \"birds_audio_dataset\\egyptian goose\\XC838177 - Egyptian Goose - Alopochen aegyptiaca.wav\"\n",
    "predicted_species = predict_bird_species(audio_file_path)\n",
    "print(\"Predicted bird species:\", predicted_species)\n"
   ]
  }
 ],
 "metadata": {
  "language_info": {
   "name": "python"
  }
 },
 "nbformat": 4,
 "nbformat_minor": 2
}
