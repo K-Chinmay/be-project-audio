{
 "cells": [
  {
   "cell_type": "code",
   "execution_count": null,
   "metadata": {},
   "outputs": [],
   "source": [
    "import numpy as np\n",
    "import librosa\n",
    "import librosa.display\n",
    "from tensorflow.keras.models import load_model\n",
    "from sklearn.preprocessing import LabelEncoder\n",
    "\n",
    "# Function to extract Mel spectrograms from audio files\n",
    "def extract_mel_spectrogram(audio_file, n_mels=32, hop_length=256):\n",
    "    y, sr = librosa.load(audio_file, sr=None)\n",
    "    mel_spectrogram = librosa.feature.melspectrogram(y=y, sr=sr, n_mels=n_mels, hop_length=hop_length)\n",
    "    mel_spectrogram = librosa.power_to_db(mel_spectrogram, ref=np.max)\n",
    "    return mel_spectrogram\n",
    "\n",
    "# Load the trained model\n",
    "model = load_model(\"mlp_model.h5\")\n",
    "\n",
    "# Load the label encoder\n",
    "label_encoder = LabelEncoder()\n",
    "label_encoder.classes_ = np.load(\"label_encoder.npy\")\n",
    "\n",
    "with open('max_width.txt', 'r') as file:\n",
    "    max_width = int(file.read().strip())\n",
    "\n",
    "# Function to predict bird species from audio file\n",
    "def predict_bird_species(audio_file):\n",
    "    # Extract Mel spectrogram from the audio file\n",
    "    mel_spec = extract_mel_spectrogram(audio_file)\n",
    "    \n",
    "    # Pad the spectrogram to match the input shape of the model\n",
    "    pad_width = max_width - mel_spec.shape[1]\n",
    "    padded_spec = np.pad(mel_spec, ((0, 0), (0, pad_width)), mode='constant')\n",
    "    \n",
    "    # Reshape the spectrogram to add the channels dimension\n",
    "    input_data = np.expand_dims(padded_spec, axis=0)\n",
    "    \n",
    "    # Make prediction\n",
    "    prediction = model.predict(input_data)\n",
    "    \n",
    "    # Decode the prediction\n",
    "    predicted_class = label_encoder.inverse_transform(np.argmax(prediction, axis=1))[0]\n",
    "    \n",
    "    return predicted_class\n",
    "\n",
    "# Example usage\n",
    "audio_file_path = \"birds_audio_dataset\\FIERY MINIVET\\XC62167 - Fiery Minivet - Pericrocotus igneus igneus.mp3\"\n",
    "predicted_species = predict_bird_species(audio_file_path)\n",
    "print(\"Predicted bird species:\", predicted_species)\n"
   ]
  }
 ],
 "metadata": {
  "language_info": {
   "name": "python"
  }
 },
 "nbformat": 4,
 "nbformat_minor": 2
}
